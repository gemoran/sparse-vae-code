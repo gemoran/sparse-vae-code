{
 "cells": [
  {
   "cell_type": "code",
   "execution_count": 2,
   "metadata": {},
   "outputs": [],
   "source": [
    "import warnings\n",
    "warnings.simplefilter(action='ignore', category=FutureWarning)\n",
    "\n",
    "from sklearn.feature_extraction.text import CountVectorizer\n",
    "from sklearn.decomposition import LatentDirichletAllocation as LDA\n",
    "from sklearn.decomposition import NMF, PCA\n",
    "from sklearn.linear_model import Ridge, LogisticRegression, Lasso\n",
    "from sklearn.metrics import mean_squared_error as mse, roc_auc_score as roc, accuracy_score as acc, log_loss\n",
    "from sklearn.neural_network import MLPClassifier, MLPRegressor\n",
    "import numpy as np\n",
    "import pandas as pd\n",
    "from data.dataset import BaseDataset\n",
    "from scipy.sparse import csr_matrix\n",
    "from importlib import reload\n",
    "import itertools as it\n",
    "import seaborn as sns\n",
    "\n",
    "dataset = 'peerread_small'\n"
   ]
  },
  {
   "cell_type": "code",
   "execution_count": 3,
   "metadata": {},
   "outputs": [],
   "source": [
    "def get_normalized_pmi(topics, counts, num_words=20):\n",
    "    num_topics = topics.shape[0]\n",
    "    per_topic_npmi = np.zeros(num_topics)\n",
    "    tf = csr_matrix(counts)\n",
    "    cooccurence = tf.T.dot(tf)\n",
    "    cooccurence = cooccurence.toarray()\n",
    "    \n",
    "    count = counts.sum(axis=0)\n",
    "    prob = count/count.sum()\n",
    "    cooccurence_prob = cooccurence/cooccurence.sum()\n",
    "\n",
    "    for k in range(num_topics):\n",
    "        npmi_total = 0\n",
    "        beta = topics[k,:]\n",
    "        top_words = (-beta).argsort()[:num_words]\n",
    "        n = 0 \n",
    "        for (w1, w2) in it.combinations(top_words, 2):\n",
    "            log_joint_prob = np.log(cooccurence_prob[w1][w2]+1e-6)\n",
    "            log_prob_w1 = np.log(prob[w1]+1e-6)\n",
    "            log_prob_w2 = np.log(prob[w2]+1e-6)\n",
    "            pmi = log_joint_prob - (log_prob_w1+log_prob_w2)\n",
    "            normalizer = -log_joint_prob\n",
    "            npmi_total += pmi/normalizer\n",
    "            n+=1\n",
    "        per_topic_npmi[k] = npmi_total / n\n",
    "    return per_topic_npmi.mean()"
   ]
  },
  {
   "cell_type": "markdown",
   "metadata": {},
   "source": [
    "## Processing data "
   ]
  },
  {
   "cell_type": "code",
   "execution_count": 4,
   "metadata": {},
   "outputs": [
    {
     "data": {
      "text/plain": [
       "(20, 11777, 500)"
      ]
     },
     "execution_count": 4,
     "metadata": {},
     "output_type": "execute_result"
    }
   ],
   "source": [
    "if dataset == 'amazon':\n",
    "    datafile = '../../dat/reviews_Office_Products_5.json'\n",
    "elif dataset == 'yelp':\n",
    "    datafile = '../../dat/yelp_review_polarity_csv/train.csv'\n",
    "elif dataset == 'peerread' or dataset == 'peerread_small':\n",
    "    datafile = '../../dat/peerread_abstracts.csv'\n",
    "else:\n",
    "    datafile = '../../dat/cs_papers.gz'\n",
    "\n",
    "\n",
    "proc_file = '../../dat/proc/' + dataset + '_proc.npz'\n",
    "components = {'amazon':30, 'semantic_scholar':50, 'peerread':40, 'peerread_small':20, 'yelp':30}\n",
    "text_dataset = BaseDataset(dataset, datafile, proc_file, use_bigrams=False)\n",
    "\n",
    "counts = text_dataset.data\n",
    "vocab= text_dataset.metadata\n",
    "\n",
    "n_components=components[dataset]\n",
    "num_documents = counts.shape[0]\n",
    "n_components, num_documents, counts.shape[1]"
   ]
  },
  {
   "cell_type": "code",
   "execution_count": 17,
   "metadata": {},
   "outputs": [
    {
     "data": {
      "text/plain": [
       "(11777, 500)"
      ]
     },
     "execution_count": 17,
     "metadata": {},
     "output_type": "execute_result"
    }
   ],
   "source": [
    "n_folds=1\n",
    "split=0\n",
    "text_dataset.assign_splits(num_splits=n_folds)\n",
    "text_dataset.split_data(0)\n",
    "counts = text_dataset.tr_data\n",
    "counts.shape"
   ]
  },
  {
   "cell_type": "code",
   "execution_count": 18,
   "metadata": {},
   "outputs": [
    {
     "name": "stdout",
     "output_type": "stream",
     "text": [
      "Perplexity: 309.61355327961445\n",
      "Log likelihood: -3167143.919967285\n"
     ]
    }
   ],
   "source": [
    "lda_model = LDA(n_components=n_components)\n",
    "doc_rep = lda_model.fit_transform(counts)\n",
    "print(\"Perplexity:\", lda_model.perplexity(counts))\n",
    "print(\"Log likelihood:\", lda_model.score(counts))"
   ]
  },
  {
   "cell_type": "code",
   "execution_count": 22,
   "metadata": {},
   "outputs": [
    {
     "data": {
      "text/plain": [
       "<AxesSubplot:>"
      ]
     },
     "execution_count": 22,
     "metadata": {},
     "output_type": "execute_result"
    },
    {
     "data": {
      "image/png": "[encoded data removed]",
      "text/plain": [
       "<Figure size 432x288 with 2 Axes>"
      ]
     },
     "metadata": {
      "needs_background": "light"
     },
     "output_type": "display_data"
    }
   ],
   "source": [
    "C = np.cov(doc_rep.T)\n",
    "sns.heatmap(C)"
   ]
  },
  {
   "cell_type": "code",
   "execution_count": 23,
   "metadata": {},
   "outputs": [
    {
     "ename": "ValueError",
     "evalue": "Expected 2D array, got scalar array instead:\narray=None.\nReshape your data either using array.reshape(-1, 1) if your data has a single feature or array.reshape(1, -1) if it contains a single sample.",
     "output_type": "error",
     "traceback": [
      "\u001b[0;31m---------------------------------------------------------------------------\u001b[0m",
      "\u001b[0;31mValueError\u001b[0m                                Traceback (most recent call last)",
      "\u001b[0;32m/var/folders/0c/hhc913316lb89pjyqmbhbw9h0000gn/T/ipykernel_18527/3827900980.py\u001b[0m in \u001b[0;36m<module>\u001b[0;34m\u001b[0m\n\u001b[0;32m----> 1\u001b[0;31m \u001b[0mz\u001b[0m \u001b[0;34m=\u001b[0m \u001b[0mlda_model\u001b[0m\u001b[0;34m.\u001b[0m\u001b[0mtransform\u001b[0m\u001b[0;34m(\u001b[0m\u001b[0mtext_dataset\u001b[0m\u001b[0;34m.\u001b[0m\u001b[0mte_data\u001b[0m\u001b[0;34m)\u001b[0m\u001b[0;34m\u001b[0m\u001b[0;34m\u001b[0m\u001b[0m\n\u001b[0m\u001b[1;32m      2\u001b[0m \u001b[0mbeta\u001b[0m \u001b[0;34m=\u001b[0m \u001b[0mlda_model\u001b[0m\u001b[0;34m.\u001b[0m\u001b[0mcomponents_\u001b[0m \u001b[0;34m/\u001b[0m \u001b[0mlda_model\u001b[0m\u001b[0;34m.\u001b[0m\u001b[0mcomponents_\u001b[0m\u001b[0;34m.\u001b[0m\u001b[0msum\u001b[0m\u001b[0;34m(\u001b[0m\u001b[0maxis\u001b[0m\u001b[0;34m=\u001b[0m\u001b[0;36m1\u001b[0m\u001b[0;34m)\u001b[0m\u001b[0;34m[\u001b[0m\u001b[0;34m:\u001b[0m\u001b[0;34m,\u001b[0m\u001b[0mnp\u001b[0m\u001b[0;34m.\u001b[0m\u001b[0mnewaxis\u001b[0m\u001b[0;34m]\u001b[0m\u001b[0;34m\u001b[0m\u001b[0;34m\u001b[0m\u001b[0m\n\u001b[1;32m      3\u001b[0m \u001b[0mprob\u001b[0m \u001b[0;34m=\u001b[0m \u001b[0mz\u001b[0m\u001b[0;34m.\u001b[0m\u001b[0mdot\u001b[0m\u001b[0;34m(\u001b[0m\u001b[0mbeta\u001b[0m\u001b[0;34m)\u001b[0m\u001b[0;34m\u001b[0m\u001b[0;34m\u001b[0m\u001b[0m\n\u001b[1;32m      4\u001b[0m \u001b[0mnll\u001b[0m \u001b[0;34m=\u001b[0m \u001b[0;34m-\u001b[0m\u001b[0;34m(\u001b[0m\u001b[0mnp\u001b[0m\u001b[0;34m.\u001b[0m\u001b[0mlog\u001b[0m\u001b[0;34m(\u001b[0m\u001b[0mprob\u001b[0m \u001b[0;34m+\u001b[0m \u001b[0;36m1e-6\u001b[0m\u001b[0;34m)\u001b[0m \u001b[0;34m*\u001b[0m \u001b[0mtext_dataset\u001b[0m\u001b[0;34m.\u001b[0m\u001b[0mte_data\u001b[0m\u001b[0;34m)\u001b[0m\u001b[0;34m.\u001b[0m\u001b[0msum\u001b[0m\u001b[0;34m(\u001b[0m\u001b[0maxis\u001b[0m\u001b[0;34m=\u001b[0m\u001b[0;36m1\u001b[0m\u001b[0;34m)\u001b[0m\u001b[0;34m.\u001b[0m\u001b[0mmean\u001b[0m\u001b[0;34m(\u001b[0m\u001b[0;34m)\u001b[0m\u001b[0;34m\u001b[0m\u001b[0;34m\u001b[0m\u001b[0m\n\u001b[1;32m      5\u001b[0m \u001b[0mprint\u001b[0m\u001b[0;34m(\u001b[0m\u001b[0;34m\"NLL:\"\u001b[0m\u001b[0;34m,\u001b[0m \u001b[0mnll\u001b[0m\u001b[0;34m)\u001b[0m\u001b[0;34m\u001b[0m\u001b[0;34m\u001b[0m\u001b[0m\n",
      "\u001b[0;32m~/opt/anaconda3/envs/sparse-vae/lib/python3.7/site-packages/sklearn/decomposition/_lda.py\u001b[0m in \u001b[0;36mtransform\u001b[0;34m(self, X)\u001b[0m\n\u001b[1;32m    659\u001b[0m         X = self._check_non_neg_array(\n\u001b[1;32m    660\u001b[0m             \u001b[0mX\u001b[0m\u001b[0;34m,\u001b[0m \u001b[0mreset_n_features\u001b[0m\u001b[0;34m=\u001b[0m\u001b[0;32mFalse\u001b[0m\u001b[0;34m,\u001b[0m\u001b[0;34m\u001b[0m\u001b[0;34m\u001b[0m\u001b[0m\n\u001b[0;32m--> 661\u001b[0;31m             whom=\"LatentDirichletAllocation.transform\")\n\u001b[0m\u001b[1;32m    662\u001b[0m         \u001b[0mdoc_topic_distr\u001b[0m \u001b[0;34m=\u001b[0m \u001b[0mself\u001b[0m\u001b[0;34m.\u001b[0m\u001b[0m_unnormalized_transform\u001b[0m\u001b[0;34m(\u001b[0m\u001b[0mX\u001b[0m\u001b[0;34m)\u001b[0m\u001b[0;34m\u001b[0m\u001b[0;34m\u001b[0m\u001b[0m\n\u001b[1;32m    663\u001b[0m         \u001b[0mdoc_topic_distr\u001b[0m \u001b[0;34m/=\u001b[0m \u001b[0mdoc_topic_distr\u001b[0m\u001b[0;34m.\u001b[0m\u001b[0msum\u001b[0m\u001b[0;34m(\u001b[0m\u001b[0maxis\u001b[0m\u001b[0;34m=\u001b[0m\u001b[0;36m1\u001b[0m\u001b[0;34m)\u001b[0m\u001b[0;34m[\u001b[0m\u001b[0;34m:\u001b[0m\u001b[0;34m,\u001b[0m \u001b[0mnp\u001b[0m\u001b[0;34m.\u001b[0m\u001b[0mnewaxis\u001b[0m\u001b[0;34m]\u001b[0m\u001b[0;34m\u001b[0m\u001b[0;34m\u001b[0m\u001b[0m\n",
      "\u001b[0;32m~/opt/anaconda3/envs/sparse-vae/lib/python3.7/site-packages/sklearn/decomposition/_lda.py\u001b[0m in \u001b[0;36m_check_non_neg_array\u001b[0;34m(self, X, reset_n_features, whom)\u001b[0m\n\u001b[1;32m    490\u001b[0m         \"\"\"\n\u001b[1;32m    491\u001b[0m         X = self._validate_data(X, reset=reset_n_features,\n\u001b[0;32m--> 492\u001b[0;31m                                 accept_sparse='csr')\n\u001b[0m\u001b[1;32m    493\u001b[0m         \u001b[0mcheck_non_negative\u001b[0m\u001b[0;34m(\u001b[0m\u001b[0mX\u001b[0m\u001b[0;34m,\u001b[0m \u001b[0mwhom\u001b[0m\u001b[0;34m)\u001b[0m\u001b[0;34m\u001b[0m\u001b[0;34m\u001b[0m\u001b[0m\n\u001b[1;32m    494\u001b[0m         \u001b[0;32mreturn\u001b[0m \u001b[0mX\u001b[0m\u001b[0;34m\u001b[0m\u001b[0;34m\u001b[0m\u001b[0m\n",
      "\u001b[0;32m~/opt/anaconda3/envs/sparse-vae/lib/python3.7/site-packages/sklearn/base.py\u001b[0m in \u001b[0;36m_validate_data\u001b[0;34m(self, X, y, reset, validate_separately, **check_params)\u001b[0m\n\u001b[1;32m    419\u001b[0m             \u001b[0mout\u001b[0m \u001b[0;34m=\u001b[0m \u001b[0mX\u001b[0m\u001b[0;34m\u001b[0m\u001b[0;34m\u001b[0m\u001b[0m\n\u001b[1;32m    420\u001b[0m         \u001b[0;32melif\u001b[0m \u001b[0misinstance\u001b[0m\u001b[0;34m(\u001b[0m\u001b[0my\u001b[0m\u001b[0;34m,\u001b[0m \u001b[0mstr\u001b[0m\u001b[0;34m)\u001b[0m \u001b[0;32mand\u001b[0m \u001b[0my\u001b[0m \u001b[0;34m==\u001b[0m \u001b[0;34m'no_validation'\u001b[0m\u001b[0;34m:\u001b[0m\u001b[0;34m\u001b[0m\u001b[0;34m\u001b[0m\u001b[0m\n\u001b[0;32m--> 421\u001b[0;31m             \u001b[0mX\u001b[0m \u001b[0;34m=\u001b[0m \u001b[0mcheck_array\u001b[0m\u001b[0;34m(\u001b[0m\u001b[0mX\u001b[0m\u001b[0;34m,\u001b[0m \u001b[0;34m**\u001b[0m\u001b[0mcheck_params\u001b[0m\u001b[0;34m)\u001b[0m\u001b[0;34m\u001b[0m\u001b[0;34m\u001b[0m\u001b[0m\n\u001b[0m\u001b[1;32m    422\u001b[0m             \u001b[0mout\u001b[0m \u001b[0;34m=\u001b[0m \u001b[0mX\u001b[0m\u001b[0;34m\u001b[0m\u001b[0;34m\u001b[0m\u001b[0m\n\u001b[1;32m    423\u001b[0m         \u001b[0;32melse\u001b[0m\u001b[0;34m:\u001b[0m\u001b[0;34m\u001b[0m\u001b[0;34m\u001b[0m\u001b[0m\n",
      "\u001b[0;32m~/opt/anaconda3/envs/sparse-vae/lib/python3.7/site-packages/sklearn/utils/validation.py\u001b[0m in \u001b[0;36minner_f\u001b[0;34m(*args, **kwargs)\u001b[0m\n\u001b[1;32m     61\u001b[0m             \u001b[0mextra_args\u001b[0m \u001b[0;34m=\u001b[0m \u001b[0mlen\u001b[0m\u001b[0;34m(\u001b[0m\u001b[0margs\u001b[0m\u001b[0;34m)\u001b[0m \u001b[0;34m-\u001b[0m \u001b[0mlen\u001b[0m\u001b[0;34m(\u001b[0m\u001b[0mall_args\u001b[0m\u001b[0;34m)\u001b[0m\u001b[0;34m\u001b[0m\u001b[0;34m\u001b[0m\u001b[0m\n\u001b[1;32m     62\u001b[0m             \u001b[0;32mif\u001b[0m \u001b[0mextra_args\u001b[0m \u001b[0;34m<=\u001b[0m \u001b[0;36m0\u001b[0m\u001b[0;34m:\u001b[0m\u001b[0;34m\u001b[0m\u001b[0;34m\u001b[0m\u001b[0m\n\u001b[0;32m---> 63\u001b[0;31m                 \u001b[0;32mreturn\u001b[0m \u001b[0mf\u001b[0m\u001b[0;34m(\u001b[0m\u001b[0;34m*\u001b[0m\u001b[0margs\u001b[0m\u001b[0;34m,\u001b[0m \u001b[0;34m**\u001b[0m\u001b[0mkwargs\u001b[0m\u001b[0;34m)\u001b[0m\u001b[0;34m\u001b[0m\u001b[0;34m\u001b[0m\u001b[0m\n\u001b[0m\u001b[1;32m     64\u001b[0m \u001b[0;34m\u001b[0m\u001b[0m\n\u001b[1;32m     65\u001b[0m             \u001b[0;31m# extra_args > 0\u001b[0m\u001b[0;34m\u001b[0m\u001b[0;34m\u001b[0m\u001b[0;34m\u001b[0m\u001b[0m\n",
      "\u001b[0;32m~/opt/anaconda3/envs/sparse-vae/lib/python3.7/site-packages/sklearn/utils/validation.py\u001b[0m in \u001b[0;36mcheck_array\u001b[0;34m(array, accept_sparse, accept_large_sparse, dtype, order, copy, force_all_finite, ensure_2d, allow_nd, ensure_min_samples, ensure_min_features, estimator)\u001b[0m\n\u001b[1;32m    632\u001b[0m                     \u001b[0;34m\"Reshape your data either using array.reshape(-1, 1) if \"\u001b[0m\u001b[0;34m\u001b[0m\u001b[0;34m\u001b[0m\u001b[0m\n\u001b[1;32m    633\u001b[0m                     \u001b[0;34m\"your data has a single feature or array.reshape(1, -1) \"\u001b[0m\u001b[0;34m\u001b[0m\u001b[0;34m\u001b[0m\u001b[0m\n\u001b[0;32m--> 634\u001b[0;31m                     \"if it contains a single sample.\".format(array))\n\u001b[0m\u001b[1;32m    635\u001b[0m             \u001b[0;31m# If input is 1D raise error\u001b[0m\u001b[0;34m\u001b[0m\u001b[0;34m\u001b[0m\u001b[0;34m\u001b[0m\u001b[0m\n\u001b[1;32m    636\u001b[0m             \u001b[0;32mif\u001b[0m \u001b[0marray\u001b[0m\u001b[0;34m.\u001b[0m\u001b[0mndim\u001b[0m \u001b[0;34m==\u001b[0m \u001b[0;36m1\u001b[0m\u001b[0;34m:\u001b[0m\u001b[0;34m\u001b[0m\u001b[0;34m\u001b[0m\u001b[0m\n",
      "\u001b[0;31mValueError\u001b[0m: Expected 2D array, got scalar array instead:\narray=None.\nReshape your data either using array.reshape(-1, 1) if your data has a single feature or array.reshape(1, -1) if it contains a single sample."
     ]
    }
   ],
   "source": [
    "z = lda_model.transform(text_dataset.te_data)\n",
    "beta = lda_model.components_ / lda_model.components_.sum(axis=1)[:,np.newaxis]\n",
    "prob = z.dot(beta)\n",
    "nll = -(np.log(prob + 1e-6) * text_dataset.te_data).sum(axis=1).mean()\n",
    "print(\"NLL:\", nll)"
   ]
  },
  {
   "cell_type": "code",
   "execution_count": 24,
   "metadata": {},
   "outputs": [
    {
     "name": "stdout",
     "output_type": "stream",
     "text": [
      "NPMI: 0.027813702934811523\n",
      "Topic 0: [('user', 0.07), ('feature', 0.07), ('task', 0.04), ('online', 0.02), ('item', 0.02), ('group', 0.02), ('method', 0.02)]\n",
      "Topic 1: [('system', 0.07), ('event', 0.02), ('process', 0.02), ('paper', 0.02), ('information', 0.02), ('ontology', 0.02), ('application', 0.02)]\n",
      "Topic 2: [('graph', 0.11), ('constraint', 0.08), ('program', 0.06), ('programming', 0.04), ('set', 0.04), ('problem', 0.03), ('solver', 0.03)]\n",
      "Topic 3: [('method', 0.04), ('function', 0.04), ('algorithm', 0.03), ('problem', 0.03), ('matrix', 0.02), ('data', 0.02), ('learning', 0.02)]\n",
      "Topic 4: [('model', 0.09), ('learning', 0.09), ('data', 0.07), ('machine', 0.04), ('topic', 0.02), ('approach', 0.02), ('latent', 0.01)]\n",
      "Topic 5: [('problem', 0.07), ('algorithm', 0.05), ('solution', 0.03), ('search', 0.02), ('optimal', 0.02), ('time', 0.02), ('approach', 0.01)]\n",
      "Topic 6: [('domain', 0.11), ('target', 0.06), ('metric', 0.06), ('search', 0.06), ('distance', 0.03), ('source', 0.03), ('data', 0.03)]\n",
      "Topic 7: [('classification', 0.05), ('feature', 0.04), ('classifier', 0.03), ('method', 0.03), ('data', 0.03), ('clustering', 0.03), ('image', 0.02)]\n",
      "Topic 8: [('representation', 0.11), ('document', 0.05), ('vector', 0.05), ('query', 0.04), ('word', 0.03), ('semantic', 0.03), ('method', 0.03)]\n",
      "Topic 9: [('algorithm', 0.07), ('bound', 0.03), ('problem', 0.02), ('learning', 0.02), ('show', 0.02), ('regret', 0.02), ('stochastic', 0.02)]\n",
      "Topic 10: [('network', 0.11), ('neural', 0.06), ('model', 0.05), ('deep', 0.03), ('layer', 0.02), ('architecture', 0.02), ('convolutional', 0.02)]\n",
      "Topic 11: [('language', 0.11), ('translation', 0.05), ('model', 0.03), ('machine', 0.03), ('corpus', 0.03), ('natural', 0.02), ('system', 0.02)]\n",
      "Topic 12: [('model', 0.06), ('inference', 0.05), ('network', 0.04), ('distribution', 0.04), ('probability', 0.04), ('bayesian', 0.03), ('variable', 0.03)]\n",
      "Topic 13: [('image', 0.05), ('text', 0.04), ('relation', 0.04), ('entity', 0.04), ('model', 0.03), ('task', 0.03), ('visual', 0.03)]\n",
      "Topic 14: [('data', 0.06), ('analysis', 0.03), ('social', 0.02), ('information', 0.02), ('sentiment', 0.02), ('technique', 0.02), ('different', 0.02)]\n",
      "Topic 15: [('word', 0.09), ('model', 0.04), ('speech', 0.04), ('sequence', 0.03), ('sentence', 0.03), ('task', 0.02), ('embeddings', 0.02)]\n",
      "Topic 16: [('rule', 0.08), ('tree', 0.06), ('decision', 0.04), ('fuzzy', 0.03), ('model', 0.03), ('based', 0.03), ('system', 0.03)]\n",
      "Topic 17: [('logic', 0.03), ('question', 0.03), ('knowledge', 0.03), ('theory', 0.03), ('reasoning', 0.02), ('set', 0.02), ('answer', 0.02)]\n",
      "Topic 18: [('agent', 0.05), ('learning', 0.04), ('action', 0.04), ('game', 0.03), ('policy', 0.03), ('environment', 0.03), ('reinforcement', 0.02)]\n",
      "Topic 19: [('training', 0.06), ('learning', 0.04), ('method', 0.03), ('deep', 0.02), ('network', 0.02), ('label', 0.02), ('performance', 0.02)]\n"
     ]
    }
   ],
   "source": [
    "unnormalized_topics = lda_model.components_\n",
    "topics = lda_model.components_ / lda_model.components_.sum(axis=1)[:,np.newaxis]\n",
    "print(\"NPMI:\", get_normalized_pmi(topics, counts))\n",
    "\n",
    "for k in range(n_components):\n",
    "    beta = topics[k]\n",
    "    top_words = (-beta).argsort()[:7]\n",
    "    topic_words = [(vocab[t], round(beta[t],2)) for t in top_words]\n",
    "    print('Topic {}: {}'.format(k, topic_words))"
   ]
  },
  {
   "cell_type": "code",
   "execution_count": 25,
   "metadata": {},
   "outputs": [
    {
     "data": {
      "text/plain": [
       "((11777, 20), (20, 500))"
      ]
     },
     "execution_count": 25,
     "metadata": {},
     "output_type": "execute_result"
    }
   ],
   "source": [
    "pretrained_out_file = '../../dat/proc/' + dataset+ '_pretraining'\n",
    "np.savez_compressed(pretrained_out_file, theta=doc_rep, beta=topics)\n",
    "doc_rep.shape, topics.shape"
   ]
  },
  {
   "cell_type": "code",
   "execution_count": 15,
   "metadata": {},
   "outputs": [
    {
     "data": {
      "text/plain": [
       "PCA(copy=True, iterated_power='auto', n_components=20, random_state=None,\n",
       "    svd_solver='auto', tol=0.0, whiten=False)"
      ]
     },
     "execution_count": 15,
     "metadata": {},
     "output_type": "execute_result"
    }
   ],
   "source": [
    "K=20\n",
    "pca = PCA(n_components=K)\n",
    "x = csr_matrix(counts)\n",
    "cov = x.T.dot(x)\n",
    "cov = cov.toarray()\n",
    "pca.fit(cov)"
   ]
  },
  {
   "cell_type": "code",
   "execution_count": 16,
   "metadata": {},
   "outputs": [
    {
     "name": "stdout",
     "output_type": "stream",
     "text": [
      "Topic 0: [('model', 0.39), ('learning', 0.26), ('algorithm', 0.23), ('data', 0.23), ('method', 0.22), ('network', 0.21), ('problem', 0.19)]\n",
      "Topic 1: [('model', 0.62), ('network', 0.18), ('neural', 0.15), ('language', 0.12), ('word', 0.11), ('task', 0.07), ('representation', 0.07)]\n",
      "Topic 2: [('network', 0.68), ('neural', 0.26), ('deep', 0.2), ('learning', 0.2), ('method', 0.1), ('convolutional', 0.09), ('training', 0.09)]\n",
      "Topic 3: [('data', 0.45), ('method', 0.26), ('system', 0.2), ('feature', 0.17), ('approach', 0.15), ('language', 0.14), ('word', 0.12)]\n",
      "Topic 4: [('learning', 0.56), ('data', 0.4), ('model', 0.22), ('deep', 0.08), ('training', 0.06), ('machine', 0.06), ('learn', 0.04)]\n",
      "Topic 5: [('data', 0.62), ('network', 0.24), ('algorithm', 0.17), ('set', 0.08), ('clustering', 0.06), ('model', 0.06), ('time', 0.05)]\n",
      "Topic 6: [('method', 0.72), ('feature', 0.11), ('model', 0.09), ('problem', 0.09), ('proposed', 0.07), ('word', 0.05), ('matrix', 0.05)]\n",
      "Topic 7: [('algorithm', 0.49), ('word', 0.37), ('feature', 0.25), ('language', 0.23), ('representation', 0.16), ('task', 0.12), ('text', 0.12)]\n",
      "Topic 8: [('problem', 0.52), ('word', 0.23), ('task', 0.2), ('representation', 0.15), ('feature', 0.15), ('approach', 0.13), ('data', 0.11)]\n",
      "Topic 9: [('feature', 0.77), ('system', 0.13), ('classification', 0.12), ('image', 0.09), ('selection', 0.08), ('based', 0.07), ('classifier', 0.07)]\n",
      "Topic 10: [('approach', 0.67), ('knowledge', 0.13), ('based', 0.13), ('set', 0.12), ('logic', 0.07), ('using', 0.07), ('belief', 0.07)]\n",
      "Topic 11: [('task', 0.76), ('agent', 0.11), ('performance', 0.11), ('image', 0.11), ('algorithm', 0.09), ('policy', 0.09), ('approach', 0.07)]\n",
      "Topic 12: [('language', 0.38), ('approach', 0.36), ('training', 0.22), ('translation', 0.16), ('machine', 0.13), ('performance', 0.13), ('neural', 0.12)]\n",
      "Topic 13: [('word', 0.48), ('system', 0.26), ('approach', 0.24), ('vector', 0.11), ('training', 0.11), ('classification', 0.1), ('performance', 0.1)]\n",
      "Topic 14: [('function', 0.44), ('set', 0.3), ('task', 0.22), ('result', 0.19), ('show', 0.18), ('word', 0.11), ('bound', 0.11)]\n",
      "Topic 15: [('image', 0.68), ('set', 0.18), ('function', 0.17), ('object', 0.16), ('classification', 0.16), ('result', 0.13), ('representation', 0.12)]\n",
      "Topic 16: [('user', 0.3), ('information', 0.27), ('result', 0.23), ('classification', 0.2), ('text', 0.2), ('performance', 0.14), ('technique', 0.14)]\n",
      "Topic 17: [('function', 0.4), ('agent', 0.24), ('user', 0.22), ('policy', 0.21), ('information', 0.21), ('image', 0.2), ('using', 0.17)]\n",
      "Topic 18: [('function', 0.47), ('task', 0.19), ('user', 0.19), ('information', 0.19), ('knowledge', 0.12), ('approach', 0.11), ('text', 0.1)]\n",
      "Topic 19: [('set', 0.55), ('user', 0.35), ('word', 0.19), ('image', 0.13), ('network', 0.13), ('based', 0.11), ('task', 0.09)]\n"
     ]
    }
   ],
   "source": [
    "loadings = pca.components_\n",
    "loadings.shape\n",
    "for k in range(K):\n",
    "    beta = loadings[k]\n",
    "    top_words = (-beta).argsort()[:7]\n",
    "    topic_words = [(vocab[t], round(beta[t],2)) for t in top_words]\n",
    "    print('Topic {}: {}'.format(k, topic_words))"
   ]
  },
  {
   "cell_type": "code",
   "execution_count": 22,
   "metadata": {},
   "outputs": [],
   "source": [
    "factors = pca.transform(cov)\n",
    "C = np.cov(factors.T)"
   ]
  },
  {
   "cell_type": "code",
   "execution_count": 23,
   "metadata": {},
   "outputs": [
    {
     "data": {
      "text/plain": [
       "<matplotlib.axes._subplots.AxesSubplot at 0x7f8d28400b38>"
      ]
     },
     "execution_count": 23,
     "metadata": {},
     "output_type": "execute_result"
    },
    {
     "data": {
      "image/png": "[encoded data removed]",
      "text/plain": [
       "<Figure size 432x288 with 2 Axes>"
      ]
     },
     "metadata": {
      "needs_background": "light"
     },
     "output_type": "display_data"
    }
   ],
   "source": [
    "sns.heatmap(C)"
   ]
  },
  {
   "cell_type": "code",
   "execution_count": null,
   "metadata": {},
   "outputs": [],
   "source": []
  }
 ],
 "metadata": {
  "kernelspec": {
   "display_name": "Python 3 (ipykernel)",
   "language": "python",
   "name": "python3"
  },
  "language_info": {
   "codemirror_mode": {
    "name": "ipython",
    "version": 3
   },
   "file_extension": ".py",
   "mimetype": "text/x-python",
   "name": "python",
   "nbconvert_exporter": "python",
   "pygments_lexer": "ipython3",
   "version": "3.7.6"
  }
 },
 "nbformat": 4,
 "nbformat_minor": 4
}
