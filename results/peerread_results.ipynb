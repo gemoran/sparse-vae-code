{
 "cells": [
  {
   "cell_type": "code",
   "execution_count": 1,
   "metadata": {},
   "outputs": [],
   "source": [
    "import numpy as np"
   ]
  },
  {
   "cell_type": "markdown",
   "metadata": {},
   "source": [
    "### Sparse VAE results"
   ]
  },
  {
   "cell_type": "code",
   "execution_count": 3,
   "metadata": {},
   "outputs": [
    {
     "ename": "FileNotFoundError",
     "evalue": "[Errno 2] No such file or directory: '../out/peerread_small/spikeslab.0.beta=1.0.row_norm=False.l0_l1=(10.0, 0.1).dim=100.npy'",
     "output_type": "error",
     "traceback": [
      "\u001b[0;31m---------------------------------------------------------------------------\u001b[0m",
      "\u001b[0;31mFileNotFoundError\u001b[0m                         Traceback (most recent call last)",
      "\u001b[0;32m<ipython-input-3-b34c94139dde>\u001b[0m in \u001b[0;36m<module>\u001b[0;34m\u001b[0m\n\u001b[1;32m     11\u001b[0m                 \u001b[0mconfigs\u001b[0m\u001b[0;34m.\u001b[0m\u001b[0mappend\u001b[0m\u001b[0;34m(\u001b[0m\u001b[0;34m(\u001b[0m\u001b[0ml0\u001b[0m\u001b[0;34m,\u001b[0m \u001b[0ml1\u001b[0m\u001b[0;34m)\u001b[0m\u001b[0;34m)\u001b[0m\u001b[0;34m\u001b[0m\u001b[0;34m\u001b[0m\u001b[0m\n\u001b[1;32m     12\u001b[0m             \u001b[0mfname\u001b[0m \u001b[0;34m=\u001b[0m \u001b[0;34m'../out/peerread_small/spikeslab.'\u001b[0m \u001b[0;34m+\u001b[0m \u001b[0mstr\u001b[0m\u001b[0;34m(\u001b[0m\u001b[0mi\u001b[0m\u001b[0;34m)\u001b[0m \u001b[0;34m+\u001b[0m \u001b[0;34m'.beta=1.0.row_norm=False.l0_l1='\u001b[0m \u001b[0;34m+\u001b[0m \u001b[0mstr\u001b[0m\u001b[0;34m(\u001b[0m\u001b[0;34m(\u001b[0m\u001b[0ml0\u001b[0m\u001b[0;34m,\u001b[0m\u001b[0ml1\u001b[0m\u001b[0;34m)\u001b[0m\u001b[0;34m)\u001b[0m \u001b[0;34m+\u001b[0m \u001b[0;34m'.dim=100.npy'\u001b[0m\u001b[0;34m\u001b[0m\u001b[0;34m\u001b[0m\u001b[0m\n\u001b[0;32m---> 13\u001b[0;31m             \u001b[0merr\u001b[0m \u001b[0;34m=\u001b[0m \u001b[0mnp\u001b[0m\u001b[0;34m.\u001b[0m\u001b[0mload\u001b[0m\u001b[0;34m(\u001b[0m\u001b[0mfname\u001b[0m\u001b[0;34m)\u001b[0m\u001b[0;34m[\u001b[0m\u001b[0;36m0\u001b[0m\u001b[0;34m]\u001b[0m\u001b[0;34m\u001b[0m\u001b[0;34m\u001b[0m\u001b[0m\n\u001b[0m\u001b[1;32m     14\u001b[0m             \u001b[0mresult\u001b[0m\u001b[0;34m.\u001b[0m\u001b[0mappend\u001b[0m\u001b[0;34m(\u001b[0m\u001b[0merr\u001b[0m\u001b[0;34m)\u001b[0m\u001b[0;34m\u001b[0m\u001b[0;34m\u001b[0m\u001b[0m\n\u001b[1;32m     15\u001b[0m     \u001b[0mresults\u001b[0m\u001b[0;34m.\u001b[0m\u001b[0mappend\u001b[0m\u001b[0;34m(\u001b[0m\u001b[0mresult\u001b[0m\u001b[0;34m)\u001b[0m\u001b[0;34m\u001b[0m\u001b[0;34m\u001b[0m\u001b[0m\n",
      "\u001b[0;32m~/opt/anaconda3/lib/python3.7/site-packages/numpy/lib/npyio.py\u001b[0m in \u001b[0;36mload\u001b[0;34m(file, mmap_mode, allow_pickle, fix_imports, encoding)\u001b[0m\n\u001b[1;32m    426\u001b[0m         \u001b[0mown_fid\u001b[0m \u001b[0;34m=\u001b[0m \u001b[0;32mFalse\u001b[0m\u001b[0;34m\u001b[0m\u001b[0;34m\u001b[0m\u001b[0m\n\u001b[1;32m    427\u001b[0m     \u001b[0;32melse\u001b[0m\u001b[0;34m:\u001b[0m\u001b[0;34m\u001b[0m\u001b[0;34m\u001b[0m\u001b[0m\n\u001b[0;32m--> 428\u001b[0;31m         \u001b[0mfid\u001b[0m \u001b[0;34m=\u001b[0m \u001b[0mopen\u001b[0m\u001b[0;34m(\u001b[0m\u001b[0mos_fspath\u001b[0m\u001b[0;34m(\u001b[0m\u001b[0mfile\u001b[0m\u001b[0;34m)\u001b[0m\u001b[0;34m,\u001b[0m \u001b[0;34m\"rb\"\u001b[0m\u001b[0;34m)\u001b[0m\u001b[0;34m\u001b[0m\u001b[0;34m\u001b[0m\u001b[0m\n\u001b[0m\u001b[1;32m    429\u001b[0m         \u001b[0mown_fid\u001b[0m \u001b[0;34m=\u001b[0m \u001b[0;32mTrue\u001b[0m\u001b[0;34m\u001b[0m\u001b[0;34m\u001b[0m\u001b[0m\n\u001b[1;32m    430\u001b[0m \u001b[0;34m\u001b[0m\u001b[0m\n",
      "\u001b[0;31mFileNotFoundError\u001b[0m: [Errno 2] No such file or directory: '../out/peerread_small/spikeslab.0.beta=1.0.row_norm=False.l0_l1=(10.0, 0.1).dim=100.npy'"
     ]
    }
   ],
   "source": [
    "l0s = [10., 5.]\n",
    "l1s = [0.1, 0.01, 0.001]\n",
    "splits = range(5)\n",
    "configs = []\n",
    "results = []\n",
    "for i in splits:\n",
    "    result = []\n",
    "    for l0 in l0s:\n",
    "        for l1 in l1s:\n",
    "            if i==0:\n",
    "                configs.append((l0, l1))\n",
    "            fname = '../../out/peerread_small/spikeslab.' + str(i) + '.beta=1.0.row_norm=False.l0_l1=' + str((l0,l1)) + '.dim=100.npy'\n",
    "            err = np.load(fname)[0]\n",
    "            result.append(err)\n",
    "    results.append(result)\n",
    "results = np.array(results)\n",
    "\n",
    "results.mean(axis=0), results.std(axis=0), configs"
   ]
  },
  {
   "cell_type": "markdown",
   "metadata": {},
   "source": [
    "### VAE results"
   ]
  },
  {
   "cell_type": "code",
   "execution_count": null,
   "metadata": {},
   "outputs": [],
   "source": [
    "l0=10.\n",
    "l1=1.\n",
    "betas=[1.0, 2.0, 4.0, 6.0, 8.0, 16.0]\n",
    "splits = range(5)\n",
    "results = []\n",
    "for i in splits:\n",
    "    result = []\n",
    "    for beta in betas:\n",
    "        fname = '../../out/peerread_small/vae.' + str(i) + '.beta=' + str(beta) + '.row_norm=False.l0_l1=' + str((l0,l1)) + '.dim=100.npy'\n",
    "        err = np.load(fname)[0]\n",
    "        result.append(err)\n",
    "    results.append(result)\n",
    "results = np.array(results)\n",
    "\n",
    "results.mean(axis=0), results.std(axis=0)"
   ]
  },
  {
   "cell_type": "markdown",
   "metadata": {},
   "source": [
    "### Variational sparse coding results"
   ]
  },
  {
   "cell_type": "code",
   "execution_count": 2,
   "metadata": {},
   "outputs": [
    {
     "data": {
      "text/plain": [
       "(267.96454, 3.5315852)"
      ]
     },
     "execution_count": 2,
     "metadata": {},
     "output_type": "execute_result"
    }
   ],
   "source": [
    "l0=5.0\n",
    "l1=0.001\n",
    "splits = range(5)\n",
    "results = []\n",
    "for i in splits:\n",
    "    fname = '../../out/peerread_small/vsc.' + str(i) + '.beta=1.0.row_norm=False.l0_l1=' + str((l0,l1)) + '.dim=100.npy'\n",
    "    err = np.load(fname)[0]\n",
    "    results.append(err)\n",
    "results = np.array(results)\n",
    "\n",
    "results.mean(axis=0), results.std(axis=0)"
   ]
  },
  {
   "cell_type": "markdown",
   "metadata": {},
   "source": [
    "### Intervened study"
   ]
  },
  {
   "cell_type": "code",
   "execution_count": 22,
   "metadata": {},
   "outputs": [
    {
     "data": {
      "text/plain": [
       "(array([52.43961792, 49.19519424, 48.58023453]),\n",
       " array([0.38340029, 0.29116238, 0.13913134]))"
      ]
     },
     "execution_count": 22,
     "metadata": {},
     "output_type": "execute_result"
    }
   ],
   "source": [
    "n = 5\n",
    "sigmas = [0.5, 1.0, 3.0]\n",
    "l0=5.0\n",
    "l1=0.01\n",
    "model = 'spikeslab'\n",
    "dim = 50\n",
    "row_norm=False\n",
    "results = np.zeros((n, len(sigmas)))\n",
    "for i in range(5):\n",
    "    for j, s in enumerate(sigmas):\n",
    "        fname = '../../out/intervened_n=5/' + str(i) + \\\n",
    "        '/sigma=' + str(s) + '/' + model + '.beta=1.0.row_norm=' + \\\n",
    "        str(row_norm) + '.l0_l1=' + str((l0,l1)) +'.dim='+ str(dim) + '.npy'\n",
    "        err = np.load(fname)[0]\n",
    "        results[i][j] = err\n",
    "results.mean(axis=0), results.std(axis=0)"
   ]
  },
  {
   "cell_type": "markdown",
   "metadata": {},
   "source": [
    "## Intervened holdout"
   ]
  },
  {
   "cell_type": "code",
   "execution_count": 15,
   "metadata": {},
   "outputs": [
    {
     "data": {
      "text/plain": [
       "(array([[45.464607, 46.43993 , 45.628506, 45.22461 , 45.088963, 45.30879 ],\n",
       "        [47.00002 , 47.915714, 47.122128, 46.6851  , 46.48943 , 46.90759 ]],\n",
       "       dtype=float32),\n",
       " [(10.0, 0.1),\n",
       "  (10.0, 0.01),\n",
       "  (10.0, 0.001),\n",
       "  (5.0, 0.1),\n",
       "  (5.0, 0.01),\n",
       "  (5.0, 0.001)])"
      ]
     },
     "execution_count": 15,
     "metadata": {},
     "output_type": "execute_result"
    }
   ],
   "source": [
    "sigmas = [0.5, 1.0]\n",
    "l0s=[10., 5.]\n",
    "l1s=[0.1, 0.01, 0.001]\n",
    "model = 'spikeslab'\n",
    "dim = 50\n",
    "row_norm=False\n",
    "results = []\n",
    "configs=[]\n",
    "for s in sigmas:\n",
    "    result=[]\n",
    "    for l0 in l0s:\n",
    "        for l1 in l1s:\n",
    "            fname = '../../out/intervened_holdout' + \\\n",
    "            '/sigma=' + str(s) + '/' + model + '.beta=1.0.row_norm=' + \\\n",
    "            str(row_norm) + '.l0_l1=' + str((l0,l1)) +'.dim='+ str(dim) + '.npy'\n",
    "            err = np.load(fname)[0]\n",
    "            result.append(err)\n",
    "            if s == 0.5:\n",
    "                configs.append((l0,l1))\n",
    "    results.append(result)\n",
    "results=np.array(results)\n",
    "results, configs"
   ]
  },
  {
   "cell_type": "markdown",
   "metadata": {},
   "source": [
    "## VAE intervened"
   ]
  },
  {
   "cell_type": "code",
   "execution_count": 24,
   "metadata": {},
   "outputs": [
    {
     "data": {
      "text/plain": [
       "(array([54.66052704, 52.08698578, 50.98447495]),\n",
       " array([0.29741674, 0.22819724, 0.44469977]))"
      ]
     },
     "execution_count": 24,
     "metadata": {},
     "output_type": "execute_result"
    }
   ],
   "source": [
    "n = 5\n",
    "sigmas = [0.5, 1.0, 3.0]\n",
    "l0=5.0\n",
    "l1=0.001\n",
    "model = 'vae'\n",
    "dim = 50\n",
    "beta=2.0\n",
    "row_norm=False\n",
    "results = np.zeros((n, len(sigmas)))\n",
    "for i in range(5):\n",
    "    for j, s in enumerate(sigmas):\n",
    "        fname = '../../out/intervened_n=5/' + str(i) + \\\n",
    "        '/sigma=' + str(s) + '/' + model + '.beta='+ str(beta) +'.row_norm=' + \\\n",
    "        str(row_norm) + '.l0_l1=' + str((l0,l1)) +'.dim='+ str(dim) + '.npy'\n",
    "        err = np.load(fname)[0]\n",
    "        results[i][j] = err\n",
    "results.mean(axis=0), results.std(axis=0)"
   ]
  },
  {
   "cell_type": "markdown",
   "metadata": {},
   "source": [
    "### Variational sparse coding intervened"
   ]
  },
  {
   "cell_type": "code",
   "execution_count": 3,
   "metadata": {},
   "outputs": [
    {
     "data": {
      "text/plain": [
       "(array([59.44869919, 58.21847076, 56.28092728]),\n",
       " array([1.42730961, 1.04343979, 0.74513133]))"
      ]
     },
     "execution_count": 3,
     "metadata": {},
     "output_type": "execute_result"
    }
   ],
   "source": [
    "n = 5\n",
    "sigmas = [0.5, 1.0, 3.0]\n",
    "l0=5.0\n",
    "l1=0.001\n",
    "model = 'vsc'\n",
    "dim = 50\n",
    "beta=1.0\n",
    "row_norm=False\n",
    "results = np.zeros((n, len(sigmas)))\n",
    "for i in range(5):\n",
    "    for j, s in enumerate(sigmas):\n",
    "        fname = '../../out/intervened_n=5/' + str(i) + \\\n",
    "        '/sigma=' + str(s) + '/' + model + '.beta='+ str(beta) +'.row_norm=' + \\\n",
    "        str(row_norm) + '.l0_l1=' + str((l0,l1)) +'.dim='+ str(dim) + '.npy'\n",
    "        err = np.load(fname)[0]\n",
    "        results[i][j] = err\n",
    "results.mean(axis=0), results.std(axis=0)"
   ]
  },
  {
   "cell_type": "code",
   "execution_count": null,
   "metadata": {},
   "outputs": [],
   "source": []
  },
  {
   "cell_type": "code",
   "execution_count": null,
   "metadata": {},
   "outputs": [],
   "source": []
  }
 ],
 "metadata": {
  "kernelspec": {
   "display_name": "Python 3",
   "language": "python",
   "name": "python3"
  },
  "language_info": {
   "codemirror_mode": {
    "name": "ipython",
    "version": 3
   },
   "file_extension": ".py",
   "mimetype": "text/x-python",
   "name": "python",
   "nbconvert_exporter": "python",
   "pygments_lexer": "ipython3",
   "version": "3.7.6"
  }
 },
 "nbformat": 4,
 "nbformat_minor": 4
}
